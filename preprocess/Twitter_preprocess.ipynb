{
 "cells": [
  {
   "cell_type": "code",
   "execution_count": 1,
   "metadata": {},
   "outputs": [],
   "source": [
    "%matplotlib inline\n",
    "import matplotlib.pyplot as plt\n",
    "\n",
    "import pandas as pd\n",
    "import time\n",
    "import numpy as np\n",
    "\n",
    "from nltk.tokenize import TweetTokenizer"
   ]
  },
  {
   "cell_type": "markdown",
   "metadata": {},
   "source": [
    "### Twitter chat corpus preprocessing\n",
    "\n",
    "dataset source: https://github.com/Marsan-Ma/chat_corpus"
   ]
  },
  {
   "cell_type": "code",
   "execution_count": 2,
   "metadata": {},
   "outputs": [],
   "source": [
    "def sentence_to_ids(sentence, dictionary):\n",
    "    \"\"\"\n",
    "    Transform sentence into ids and record new words\n",
    "        sentence: [word_0, word_1, ...]\n",
    "        dictionary: {word: [id, frequency]}\n",
    "    \"\"\"\n",
    "    ids = []\n",
    "    for i in range(len(sentence)):\n",
    "        # strip hashtag's #\n",
    "        if sentence[i][0] == \"#\":\n",
    "            sentence[i] = sentence[i][1:]\n",
    "\n",
    "        if sentence[i] not in dictionary:\n",
    "            dictionary[sentence[i]] = [len(dictionary), 0]\n",
    "\n",
    "        # count word frequency\n",
    "        dictionary[sentence[i]][1] += 1\n",
    "\n",
    "        ids.append(dictionary[sentence[i]][0])\n",
    "    \n",
    "    return sentence, ids\n",
    "\n",
    "\n",
    "def tokenize_and_build_dictionary(sentences, print_every=100000):\n",
    "    \"\"\"\n",
    "    NLTK Tweet: Tokenizations for training data, build a dictionary\n",
    "        sentences: [sentence_0, sentence_1, ...]\n",
    "    Returns:\n",
    "        data: list of {message:[...], m_ids:[...], response:[...], r_ids:[...]}\n",
    "        dictionary: {word: [id, frequency]}\n",
    "    \"\"\"\n",
    "    twtknzr = TweetTokenizer(reduce_len=True, strip_handles=True)\n",
    "    data = []\n",
    "    dictionary = {}\n",
    "\n",
    "    # Build dictionary\n",
    "    st = time.time()\n",
    "    for i in range(0, len(sentences), 2):\n",
    "        pair = {}\n",
    "        message = twtknzr.tokenize(sentences[i])\n",
    "        response = twtknzr.tokenize(sentences[i + 1])\n",
    "\n",
    "        # transform text into token_id sequence\n",
    "        pair[\"message\"], pair[\"m_ids\"] = sentence_to_ids(message, dictionary)\n",
    "        pair[\"response\"], pair[\"r_ids\"] = sentence_to_ids(response, dictionary)\n",
    "\n",
    "        if i % print_every == 0:\n",
    "            print(\"Processed {} sentences, used {:.4f} seconds.\".format(\n",
    "                  i, time.time() - st))\n",
    "\n",
    "        data.append(pair)\n",
    "\n",
    "    return data, dictionary"
   ]
  },
  {
   "cell_type": "code",
   "execution_count": 4,
   "metadata": {},
   "outputs": [],
   "source": [
    "df = pd.read_csv(\"twitter_en_big.txt\", header=None, sep=\"\\t\")"
   ]
  },
  {
   "cell_type": "code",
   "execution_count": 5,
   "metadata": {
    "scrolled": true
   },
   "outputs": [
    {
     "name": "stdout",
     "output_type": "stream",
     "text": [
      "Processed 0 sentences, used 0.0006 seconds.\n",
      "Processed 100000 sentences, used 6.8714 seconds.\n",
      "Processed 200000 sentences, used 13.2371 seconds.\n",
      "Processed 300000 sentences, used 20.8553 seconds.\n",
      "Processed 400000 sentences, used 28.4578 seconds.\n",
      "Processed 500000 sentences, used 35.2528 seconds.\n",
      "Processed 600000 sentences, used 42.3493 seconds.\n",
      "Processed 700000 sentences, used 49.5808 seconds.\n",
      "Processed 800000 sentences, used 56.4027 seconds.\n",
      "Processed 900000 sentences, used 62.9982 seconds.\n",
      "Processed 1000000 sentences, used 70.3672 seconds.\n",
      "Processed 1100000 sentences, used 77.9817 seconds.\n",
      "Processed 1200000 sentences, used 84.6329 seconds.\n",
      "Processed 1300000 sentences, used 91.7561 seconds.\n",
      "Processed 1400000 sentences, used 99.6297 seconds.\n",
      "Processed 1500000 sentences, used 106.4259 seconds.\n",
      "Processed 1600000 sentences, used 113.4650 seconds.\n",
      "Processed 1700000 sentences, used 120.1971 seconds.\n",
      "Processed 1800000 sentences, used 128.0018 seconds.\n",
      "Processed 1900000 sentences, used 134.6044 seconds.\n",
      "Processed 2000000 sentences, used 141.5260 seconds.\n",
      "Processed 2100000 sentences, used 148.4213 seconds.\n",
      "Processed 2200000 sentences, used 156.6541 seconds.\n",
      "Processed 2300000 sentences, used 163.4629 seconds.\n",
      "Processed 2400000 sentences, used 170.0118 seconds.\n",
      "Processed 2500000 sentences, used 176.5172 seconds.\n",
      "Processed 2600000 sentences, used 183.3974 seconds.\n",
      "Processed 2700000 sentences, used 190.2109 seconds.\n",
      "Processed 2800000 sentences, used 198.9971 seconds.\n",
      "Processed 2900000 sentences, used 205.7681 seconds.\n",
      "Processed 3000000 sentences, used 212.0406 seconds.\n",
      "Processed 3100000 sentences, used 219.5196 seconds.\n",
      "Processed 3200000 sentences, used 226.2469 seconds.\n",
      "Processed 3300000 sentences, used 232.9807 seconds.\n",
      "Processed 3400000 sentences, used 240.0532 seconds.\n",
      "Processed 3500000 sentences, used 248.7398 seconds.\n",
      "Processed 3600000 sentences, used 256.0775 seconds.\n",
      "Processed 3700000 sentences, used 263.1950 seconds.\n",
      "Processed 3800000 sentences, used 270.2908 seconds.\n",
      "Processed 3900000 sentences, used 277.2883 seconds.\n",
      "Processed 4000000 sentences, used 283.2971 seconds.\n",
      "Processed 4100000 sentences, used 290.5568 seconds.\n",
      "Processed 4200000 sentences, used 297.2629 seconds.\n",
      "Processed 4300000 sentences, used 303.4168 seconds.\n",
      "Processed 4400000 sentences, used 313.6999 seconds.\n",
      "Processed 4500000 sentences, used 319.8846 seconds.\n",
      "Processed 4600000 sentences, used 326.1014 seconds.\n",
      "Processed 4700000 sentences, used 333.6452 seconds.\n",
      "Processed 4800000 sentences, used 340.4382 seconds.\n",
      "Processed 4900000 sentences, used 347.0680 seconds.\n",
      "Processed 5000000 sentences, used 353.7299 seconds.\n",
      "Processed 5100000 sentences, used 360.5382 seconds.\n"
     ]
    }
   ],
   "source": [
    "data, dictionary = tokenize_and_build_dictionary(df[0].tolist())"
   ]
  },
  {
   "cell_type": "code",
   "execution_count": 6,
   "metadata": {},
   "outputs": [
    {
     "name": "stdout",
     "output_type": "stream",
     "text": [
      "Total words: 78896214; Vocabulary size: 490844\n"
     ]
    }
   ],
   "source": [
    "total_words = sum([len(d[\"m_ids\"]) + len(d[\"r_ids\"]) for d in data])\n",
    "dict_size = len(dictionary)\n",
    "\n",
    "print(\"Total words: {}; Vocabulary size: {}\".format(total_words, dict_size))"
   ]
  },
  {
   "cell_type": "markdown",
   "metadata": {},
   "source": [
    "#### Select Vocabulary Size Threshold"
   ]
  },
  {
   "cell_type": "code",
   "execution_count": 7,
   "metadata": {},
   "outputs": [
    {
     "data": {
      "text/plain": [
       "[(3427659, '.'),\n",
       " (2149626, 'the'),\n",
       " (1679820, ','),\n",
       " (1653380, 'to'),\n",
       " (1522926, 'i'),\n",
       " (1414138, 'a'),\n",
       " (1224043, '!'),\n",
       " (1091332, 'you'),\n",
       " (1016107, 'and'),\n",
       " (973584, 'is'),\n",
       " (930598, '?'),\n",
       " (927294, 'of'),\n",
       " (822498, 'in'),\n",
       " (737845, 'for'),\n",
       " (736758, 'it'),\n",
       " (698561, 'that'),\n",
       " (591339, 'this'),\n",
       " (537695, 'on'),\n",
       " (511206, '\"'),\n",
       " (481721, 'my'),\n",
       " (417829, 'be'),\n",
       " (415003, 'not'),\n",
       " (413289, 'but'),\n",
       " (392080, 'are'),\n",
       " (391168, 'have'),\n",
       " (379540, 'was'),\n",
       " (377057, 'so'),\n",
       " (368757, 'with'),\n",
       " (353307, 'me'),\n",
       " (311717, 'just'),\n",
       " (310173, '...'),\n",
       " (303278, 'like'),\n",
       " (301573, 'we'),\n",
       " (294072, 'at'),\n",
       " (288788, 'your'),\n",
       " (287566, 'what'),\n",
       " (287371, 'he'),\n",
       " (281890, 'they'),\n",
       " (276753, \"i'm\"),\n",
       " (272696, 'if'),\n",
       " (272233, 'all'),\n",
       " (266775, ':'),\n",
       " (260933, \"it's\"),\n",
       " (245940, 'about'),\n",
       " (245561, '&'),\n",
       " (239664, 'do'),\n",
       " (234406, '…'),\n",
       " (228516, 'as'),\n",
       " (222962, 'trump'),\n",
       " (218463, 'no'),\n",
       " (211724, 'out'),\n",
       " (210307, \"don't\"),\n",
       " (207928, 'up'),\n",
       " (205857, 'can'),\n",
       " (204347, 'will'),\n",
       " (202016, 'get'),\n",
       " (201805, 'one'),\n",
       " (194883, 'from'),\n",
       " (192560, 'how'),\n",
       " (191592, '-'),\n",
       " (189060, 'or'),\n",
       " (178137, 'when'),\n",
       " (178088, 'know'),\n",
       " (169052, '/'),\n",
       " (168047, 'who'),\n",
       " (166524, 'an'),\n",
       " (166233, 'now'),\n",
       " (164588, 'people'),\n",
       " (162022, 'good'),\n",
       " (154911, 'more'),\n",
       " (153561, 'his'),\n",
       " (151937, 'by'),\n",
       " (151705, 'think'),\n",
       " (150194, 'has'),\n",
       " (148791, 'there'),\n",
       " (148560, 'would'),\n",
       " (142092, ')'),\n",
       " (140522, 'time'),\n",
       " (139845, '😂'),\n",
       " (134369, 'lol'),\n",
       " (134002, '('),\n",
       " (132700, \"'\"),\n",
       " (131119, 'too'),\n",
       " (130797, 'u'),\n",
       " (128651, 'why'),\n",
       " (128384, 'she'),\n",
       " (126880, 'love'),\n",
       " (126652, 'see'),\n",
       " (125711, \"that's\"),\n",
       " (122615, 'her'),\n",
       " (122437, 'them'),\n",
       " (120504, '’'),\n",
       " (115386, 'him'),\n",
       " (114471, 'been'),\n",
       " (113654, 'go'),\n",
       " (113017, 'right'),\n",
       " (111475, 'did'),\n",
       " (107790, 'some'),\n",
       " (107684, 'really'),\n",
       " (105022, 'need'),\n",
       " (105001, 'only'),\n",
       " (104552, 'got'),\n",
       " (103981, 'our'),\n",
       " (103748, 'had'),\n",
       " (102614, 'us'),\n",
       " (101511, 'want'),\n",
       " (100776, 'should'),\n",
       " (99724, 'still'),\n",
       " (98749, 'going'),\n",
       " (98514, \"you're\"),\n",
       " (97743, 'much'),\n",
       " (97639, \"can't\"),\n",
       " (96945, 'new'),\n",
       " (96700, 'their'),\n",
       " (93882, 'than'),\n",
       " (93179, 'great'),\n",
       " (92280, 'even'),\n",
       " (91709, 'make'),\n",
       " (91685, 's'),\n",
       " (91070, 'back'),\n",
       " (89797, 'because'),\n",
       " (87933, 'here'),\n",
       " (86510, 'never'),\n",
       " (84081, 'were'),\n",
       " (83497, 'day'),\n",
       " (83286, 'thanks'),\n",
       " (83185, 'then'),\n",
       " (81854, '2'),\n",
       " (81509, 'say'),\n",
       " (81161, '..'),\n",
       " (81036, 'way'),\n",
       " (79254, 'well'),\n",
       " (78660, '️'),\n",
       " (77996, 'over'),\n",
       " (77498, 'also'),\n",
       " (76853, '*'),\n",
       " (75252, 'thank'),\n",
       " (72610, 'am'),\n",
       " (72229, 'any'),\n",
       " (71696, 'being'),\n",
       " (70378, 'could'),\n",
       " (70298, \"he's\"),\n",
       " (69533, 'yes'),\n",
       " (68349, 'said'),\n",
       " (68219, 'work'),\n",
       " (67755, 'better'),\n",
       " (67364, 'very'),\n",
       " (67348, \"didn't\"),\n",
       " (66720, 'first'),\n",
       " (66568, 'these'),\n",
       " (66257, 'last'),\n",
       " (66002, 'today'),\n",
       " (65946, 'where'),\n",
       " (65848, 'off'),\n",
       " (65414, 'take'),\n",
       " (65193, 'after'),\n",
       " (65096, 'man'),\n",
       " (64586, 'hillary'),\n",
       " (64470, 'best'),\n",
       " (63815, 'same'),\n",
       " (62871, 'thing'),\n",
       " (62202, 'look'),\n",
       " (61651, 'oh'),\n",
       " (61538, 'w'),\n",
       " (61375, 'other'),\n",
       " (61088, '$'),\n",
       " (60808, \"i've\"),\n",
       " (60385, 'shit'),\n",
       " (60186, 'always'),\n",
       " (59953, 'sure'),\n",
       " (59795, 'does'),\n",
       " (59320, 'many'),\n",
       " (59218, 'those'),\n",
       " (58463, 'into'),\n",
       " (56745, 'down'),\n",
       " (56703, 'year'),\n",
       " (56568, 'yeah'),\n",
       " (56309, 'come'),\n",
       " (55368, 'happy'),\n",
       " (54601, 'bad'),\n",
       " (53957, 'most'),\n",
       " (53744, 'years'),\n",
       " (53725, 'ever'),\n",
       " (53708, 'hope'),\n",
       " (53499, 'please'),\n",
       " (52543, 'every'),\n",
       " (52423, 'game'),\n",
       " (52350, 'next'),\n",
       " (52296, 'its'),\n",
       " (52131, \"i'll\"),\n",
       " (51780, 'again'),\n",
       " (51464, 'show'),\n",
       " (51456, \"doesn't\"),\n",
       " (50485, 'feel'),\n",
       " (50314, 'something'),\n",
       " (50105, 'actually'),\n",
       " (49591, 'life'),\n",
       " (48399, 'someone'),\n",
       " (48365, 'before'),\n",
       " (48311, 'vote')]"
      ]
     },
     "execution_count": 7,
     "metadata": {},
     "output_type": "execute_result"
    }
   ],
   "source": [
    "# sort dictionary by word frequency\n",
    "word_freq = [(dictionary[key][1], key) for key in dictionary.keys()]\n",
    "words_sort_by_freq = sorted(word_freq, reverse=True)\n",
    "freq = np.asarray(words_sort_by_freq)[:, 0].astype(np.int32)\n",
    "\n",
    "words_sort_by_freq[:200]"
   ]
  },
  {
   "cell_type": "code",
   "execution_count": 8,
   "metadata": {},
   "outputs": [
    {
     "name": "stdout",
     "output_type": "stream",
     "text": [
      "Keep the most frequent 50000 words will drop 1066692 tokens which is 1.352 percent.\n"
     ]
    },
    {
     "data": {
      "text/plain": [
       "(19, 'reputed')"
      ]
     },
     "execution_count": 8,
     "metadata": {},
     "output_type": "execute_result"
    }
   ],
   "source": [
    "# set the vocabulary size threshold\n",
    "num_keep_words = 50000\n",
    "\n",
    "# number of words that will be dropped\n",
    "num_words_drop = freq[num_keep_words:].sum()\n",
    "percent_drop = num_words_drop / total_words\n",
    "\n",
    "info = \"Keep the most frequent {} words will drop {} tokens \"\n",
    "info += \"which is {:.3f} percent.\"\n",
    "print(info.format(num_keep_words, num_words_drop, 100 * percent_drop))\n",
    "\n",
    "words_sort_by_freq[num_keep_words]"
   ]
  },
  {
   "cell_type": "code",
   "execution_count": 9,
   "metadata": {},
   "outputs": [
    {
     "data": {
      "text/plain": [
       "<matplotlib.legend.Legend at 0x7f2aa9006198>"
      ]
     },
     "execution_count": 9,
     "metadata": {},
     "output_type": "execute_result"
    },
    {
     "data": {
      "image/png": "[encoded data removed]",
      "text/plain": [
       "<Figure size 864x576 with 1 Axes>"
      ]
     },
     "metadata": {},
     "output_type": "display_data"
    }
   ],
   "source": [
    "log_freq = np.log(freq)\n",
    "plt.figure(figsize=(12, 8))\n",
    "plt.hist(log_freq, bins=500, log=True)\n",
    "\n",
    "threshold = np.log(words_sort_by_freq[num_keep_words][0])\n",
    "plt.vlines(x=threshold, colors=\"r\", ymin=0, ymax=10**6,\n",
    "           label=\"{} words\".format(num_keep_words))\n",
    "plt.xlabel(\"log frequency\", fontsize=16)\n",
    "plt.ylabel(\"log number of words\", fontsize=16)\n",
    "plt.legend(fontsize=16)"
   ]
  },
  {
   "cell_type": "markdown",
   "metadata": {},
   "source": [
    "#### Process sentences by the new dictionary with predefined vocabulary size"
   ]
  },
  {
   "cell_type": "code",
   "execution_count": 10,
   "metadata": {},
   "outputs": [],
   "source": [
    "def process_sentence(sentence, dictionary):\n",
    "    \"\"\"\n",
    "    Process sentence with the new dictionary\n",
    "        1. Drop words not in the dictionary\n",
    "        2. Return a new list of word ids\n",
    "    \"\"\"\n",
    "    processed_sent = []\n",
    "    processed_ids = []\n",
    "    for word in sentence:\n",
    "        if dictionary.get(word) is not None:\n",
    "            processed_sent.append(word)\n",
    "            processed_ids.append(dictionary[word])\n",
    "\n",
    "    return processed_sent, processed_ids"
   ]
  },
  {
   "cell_type": "code",
   "execution_count": 11,
   "metadata": {},
   "outputs": [],
   "source": [
    "# build new dictionary\n",
    "dictionary = {}\n",
    "for index, freq_word in enumerate(words_sort_by_freq[:num_keep_words]):\n",
    "    dictionary[freq_word[1]] = index"
   ]
  },
  {
   "cell_type": "code",
   "execution_count": 12,
   "metadata": {},
   "outputs": [
    {
     "name": "stdout",
     "output_type": "stream",
     "text": [
      "Processed total words: 77829522; New vocabulary size: 50000\n"
     ]
    }
   ],
   "source": [
    "for i in range(len(data)):\n",
    "    data[i][\"message\"], data[i][\"m_ids\"] = process_sentence(\n",
    "        data[i][\"message\"], dictionary)\n",
    "\n",
    "    data[i][\"response\"], data[i][\"r_ids\"] = process_sentence(\n",
    "        data[i][\"response\"], dictionary)\n",
    "\n",
    "p_total_words = sum([len(d[\"m_ids\"]) + len(d[\"r_ids\"]) for d in data])\n",
    "p_dict_size = len(dictionary)\n",
    "\n",
    "print(\"Processed total words: {}; New vocabulary size: {}\".format(\n",
    "      p_total_words, p_dict_size))"
   ]
  },
  {
   "cell_type": "markdown",
   "metadata": {},
   "source": [
    "#### Export as processed files"
   ]
  },
  {
   "cell_type": "code",
   "execution_count": 13,
   "metadata": {},
   "outputs": [],
   "source": [
    "def to_output_form(token_list):\n",
    "    \"\"\"\n",
    "    Transform data into a string output format\n",
    "    \"\"\"\n",
    "    output = \" \".join(np.array(token_list, dtype=str).tolist())\n",
    "\n",
    "    return output\n",
    "\n",
    "\n",
    "def export_data(data):\n",
    "    \"\"\"\n",
    "    Save data as raw text files for messages, responses and their ids\n",
    "    \"\"\"\n",
    "    df = pd.DataFrame(data).applymap(to_output_form)\n",
    "\n",
    "    df[\"message\"].to_csv(\"twitter_message.txt\", header=None, index=None)\n",
    "    df[\"response\"].to_csv(\"twitter_response.txt\", header=None, index=None)\n",
    "\n",
    "    df[\"m_ids\"].to_csv(\"twitter_message_ids.txt\", header=None, index=None)\n",
    "    df[\"r_ids\"].to_csv(\"twitter_response_ids.txt\", header=None, index=None)"
   ]
  },
  {
   "cell_type": "code",
   "execution_count": 14,
   "metadata": {},
   "outputs": [],
   "source": [
    "export_data(data)"
   ]
  },
  {
   "cell_type": "code",
   "execution_count": null,
   "metadata": {},
   "outputs": [],
   "source": []
  }
 ],
 "metadata": {
  "kernelspec": {
   "display_name": "Python 3",
   "language": "python",
   "name": "python3"
  },
  "language_info": {
   "codemirror_mode": {
    "name": "ipython",
    "version": 3
   },
   "file_extension": ".py",
   "mimetype": "text/x-python",
   "name": "python",
   "nbconvert_exporter": "python",
   "pygments_lexer": "ipython3",
   "version": "3.5.2"
  }
 },
 "nbformat": 4,
 "nbformat_minor": 2
}
